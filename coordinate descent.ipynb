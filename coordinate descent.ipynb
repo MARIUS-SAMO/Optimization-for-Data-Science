{
  "cells": [
    {
      "cell_type": "markdown",
      "metadata": {
        "id": "lybGTgQi5HK_"
      },
      "source": [
        "# Short Lab 3 : Proximal/cyclic/greedy coordinate descent\n",
        "\n",
        "#### Authors: A. Gramfort, M. Massias, P. Ablin\n",
        "\n",
        "## Aim\n",
        "\n",
        "The aim of this material is to code \n",
        "- cyclic and greedy coordinate descent for ordinary least squares (OLS)\n",
        "- proximal coordinate descent for sparse Logistic regression\n",
        "\n",
        "## VERY IMPORTANT\n",
        "\n",
        "- This work **must be done by pairs of students**.\n",
        "- **Each** student must send their work **before the 23th of november at noon**, using the **moodle platform**.\n",
        "- This means that **each student in the pair sends the same file**\n",
        "- The **name of the file must be** constructed as in the next cell\n",
        "\n",
        "# Gentle reminder: no evaluation if you don't respect this EXACTLY\n",
        "\n",
        "### How to construct the name of your file"
      ]
    },
    {
      "cell_type": "code",
      "execution_count": 21,
      "metadata": {
        "colab": {
          "base_uri": "https://localhost:8080/"
        },
        "id": "LatUShZP5HLB",
        "outputId": "b98871b1-5e14-4a6e-c710-c7c973cf8126"
      },
      "outputs": [
        {
          "output_type": "stream",
          "name": "stdout",
          "text": [
            "lab3_samo_kamga_marius_bartel_and_tozy_zakaria.ipynb\n"
          ]
        }
      ],
      "source": [
        "# Change here using YOUR first and last names\n",
        "fn1 = \"marius_bartel\"\n",
        "ln1 = \"samo_kamga\"\n",
        "fn2 = \"zakaria\"\n",
        "ln2 = \"tozy\"\n",
        "\n",
        "filename = \"_\".join(map(lambda s: s.strip().lower(), \n",
        "                        [\"lab3\", ln1, fn1, \"and\", ln2, fn2])) + \".ipynb\"\n",
        "print(filename)"
      ]
    },
    {
      "cell_type": "code",
      "execution_count": 90,
      "metadata": {
        "id": "x3Wr5tuc5HLB"
      },
      "outputs": [],
      "source": [
        "import numpy as np\n",
        "from numpy.linalg import norm\n",
        "import matplotlib.pyplot as plt"
      ]
    },
    {
      "cell_type": "code",
      "execution_count": 91,
      "metadata": {
        "id": "ugDaCzJm5HLC"
      },
      "outputs": [],
      "source": [
        "# the usual functions:\n",
        "\n",
        "from numpy.random import multivariate_normal\n",
        "from scipy.linalg.special_matrices import toeplitz\n",
        "from numpy.random import randn\n",
        "\n",
        "\n",
        "def simu(coefs, n_samples=1000, corr=0.5, for_logreg=False):\n",
        "    n_features = len(coefs)\n",
        "    cov = toeplitz(corr ** np.arange(0, n_features))\n",
        "    A = multivariate_normal(np.zeros(n_features), cov, size=n_samples)\n",
        "    b = A.dot(coefs) + randn(n_samples)\n",
        "    if for_logreg:\n",
        "        b = np.sign(b)\n",
        "    return A, b"
      ]
    },
    {
      "cell_type": "markdown",
      "metadata": {
        "id": "KsNAbcyx5HLC"
      },
      "source": [
        "## Part 1: Ordinary Least Squares\n",
        "\n",
        "\n",
        "Let $A \\in \\mathbb{R}^{n \\times p}$, $y \\in \\mathbb{R}^n$.\n",
        "We want to use coordinate descent to solve:\n",
        "    \n",
        "$$\\hat w \\in  \\mathrm{arg \\, min \\,} \\frac 12 \\Vert Aw - b \\Vert ^2 $$\n",
        "\n",
        "\n",
        "<div class=\"alert alert-success\">\n",
        "    <b>QUESTION 1:</b> We ask you to code\n",
        "     <ul>\n",
        "         <li>cyclic coordinate descent: at iteration $t$, update feature $j = t \\mod p$</li>\n",
        "         <li>greedy coordinate descent: at iteration $t$, update feature having the largest partial gradient in magnitude, ie $j = \\mathrm{arg\\, max \\,}_{i} \\vert \\nabla_i f(w_t) \\vert$.\n",
        "</li>\n",
        "    </ul>\n",
        "</div>\n",
        "\n",
        "**WARNING**: You must do this in a clever way, ie such that $p$ updates cost the same as one update of GD."
      ]
    },
    {
      "cell_type": "code",
      "execution_count": 92,
      "metadata": {
        "id": "FschMfPB5HLC"
      },
      "outputs": [],
      "source": [
        "n_features = 100\n",
        "np.random.seed(1970)\n",
        "coefs = np.random.randn(n_features)\n",
        "\n",
        "A, b = simu(coefs, n_samples=1000, for_logreg=False)"
      ]
    },
    {
      "cell_type": "code",
      "source": [
        "# Util Functions\n",
        "\n",
        "def grad_linreg(x, A, b):\n",
        "    \"\"\"Leas-squares gradient\"\"\"\n",
        "    return -1 * np.dot(A.T,(b-np.dot(A,x)))\n",
        "\n",
        "def L1_norm(x, lmbd):\n",
        "    \"\"\"Value of the L1 penalization at x\"\"\"\n",
        "    return lmbd * np.linalg.norm(x, 1) # TODO\n",
        "\n",
        "def loss_linreg(x, A, b):\n",
        "    \"\"\"Least-squares loss\"\"\"\n",
        "    return (np.linalg.norm(b - np.dot(A,x), 2)**2)/ 2 "
      ],
      "metadata": {
        "id": "S1EkO6Qf4YZX"
      },
      "execution_count": null,
      "outputs": []
    },
    {
      "cell_type": "code",
      "execution_count": 102,
      "metadata": {
        "id": "VFSlV0iH5HLC"
      },
      "outputs": [],
      "source": [
        "from IPython.core.display import json\n",
        "def cyclic_cd(A, b, n_iter):\n",
        "    n_samples, n_features = A.shape\n",
        "    all_objs = []\n",
        "    \n",
        "    w = np.zeros(n_features)\n",
        "    residuals = b - A.dot(w)\n",
        "    \n",
        "    # TODO\n",
        "    lips_const = np.linalg.norm(A, axis=0) ** 2\n",
        "    # END TODO\n",
        "    \n",
        "    for t in range(n_iter):\n",
        "        j = t % n_features\n",
        "        # TODO\n",
        "        old_w_j = w[j]\n",
        "        w[j] += (np.dot(A[:,j], residuals)) / lips_const[j]\n",
        "        # update residuals:\n",
        "        residuals += np.dot(A[:,j], old_w_j - w[j]) \n",
        "        # END TODO\n",
        "        \n",
        "        if t % n_features == 0:\n",
        "            all_objs.append((residuals ** 2).sum() / 2.)\n",
        "    return w, np.array(all_objs)\n",
        "\n",
        "\n",
        "\n",
        "def greedy_cd(A, b, n_iter):\n",
        "    n_samples, n_features = A.shape\n",
        "    all_objs = []\n",
        "    \n",
        "    w = np.zeros(n_features)\n",
        "    \n",
        "    gradient = A.T.dot(A.dot(w) - b)\n",
        "    gram = A.T.dot(A)  # you will need this to keep the gradient up to date\n",
        "    \n",
        "    # TODO\n",
        "    lips_const = np.linalg.norm(A, axis=0) ** 2\n",
        "    # END TODO \n",
        "    \n",
        "    for t in range(n_iter):\n",
        "        # TODO\n",
        "        # choose feature j to update: \n",
        "        j = np.argmax(np.abs(gradient))\n",
        "        old_w_j  = w[j]\n",
        "        w[j] -= (1/lips_const[j]) * gradient[j]\n",
        "        # update gradient:\n",
        "        gradient += np.dot(gram[:, j], (w[j] - old_w_j)) \n",
        "        # END TODO\n",
        "        if t % n_features == 0:\n",
        "            all_objs.append(0.5 * np.linalg.norm(A.dot(w) - b) ** 2)\n",
        "    \n",
        "    return w, np.array(all_objs)"
      ]
    },
    {
      "cell_type": "markdown",
      "metadata": {
        "id": "VtkF6mJP5HLD"
      },
      "source": [
        "<div class=\"alert alert-success\">\n",
        "    <b>QUESTION 2:</b>\n",
        "     <ul>\n",
        "         <li>Compute a precise minimum with your favorite solver</li>\n",
        "         <li>Compare the performance of cyclic and greedy CD as function of iterations.</li>\n",
        "         <li>From a practical point of view, could you use greedy CD for L2 regularized logistic regression? to solve OLS, but with 100,000 features? Explain your answers.</li>\n",
        "    </ul>\n",
        "</div>\n",
        "\n",
        "**Remark:** You will do the plots using the number of iterations on the x-axis and not time as your code is likely to be slow unless you use [numba](https://numba.pydata.org/)."
      ]
    },
    {
      "cell_type": "code",
      "source": [
        "from scipy import linalg\n",
        "w_solve = linalg.solve(np.dot(A.T, A), np.dot(A.T, b))\n",
        "loss_linreg(w_solve, A, b)"
      ],
      "metadata": {
        "colab": {
          "base_uri": "https://localhost:8080/"
        },
        "id": "GRrOzzml_eDH",
        "outputId": "4941ea1e-d929-493e-cc93-166551072c44"
      },
      "execution_count": 99,
      "outputs": [
        {
          "output_type": "execute_result",
          "data": {
            "text/plain": [
              "466.3849765337658"
            ]
          },
          "metadata": {},
          "execution_count": 99
        }
      ]
    },
    {
      "cell_type": "code",
      "source": [
        "# Here we compute a precise minimizer \n",
        "from scipy.optimize import fmin_l_bfgs_b\n",
        "\n",
        "x_init = np.zeros(A.shape[1])\n",
        "x_min, f_min, _ = fmin_l_bfgs_b(loss_linreg, x_init, grad_linreg,args=(A, b), pgtol=1e-30, factr=1e-30)\n",
        "\n",
        "print(\"Precise minimum : \", f_min)\n",
        "print(\"Norm of the gradient at the precise minimizer : \", norm(grad_linreg(x_min, A, b)))"
      ],
      "metadata": {
        "colab": {
          "base_uri": "https://localhost:8080/"
        },
        "id": "qdA40QFE5nwd",
        "outputId": "ca051b0d-ddf2-4864-86c2-c16748caa945"
      },
      "execution_count": 105,
      "outputs": [
        {
          "output_type": "stream",
          "name": "stdout",
          "text": [
            "Precise minimum :  466.38497653376567\n",
            "Norm of the gradient at the precise minimizer 3.062725034172051e-06\n"
          ]
        }
      ]
    },
    {
      "cell_type": "code",
      "source": [
        "import time\n",
        "eps = np.finfo('float').eps\n",
        "\n",
        "start = time.time()\n",
        "# Cyclic CD\n",
        "print(\"------ Cyclic CD -------\")\n",
        "w_ccd, loss_ccd = cyclic_cd(A, b, n_iter=100*n_features)\n",
        "print(f\"cyclic_cd time performance : {time.time() - start}\")\n",
        "print(f\"cyclic_cd mimimum {loss_ccd[-1]}\")\n",
        "\n",
        "# Greedy CD\n",
        "print(\"------ Greedy CD -------\")\n",
        "start = time.time()\n",
        "w_gcd, loss_gcd = greedy_cd(A, b, n_iter=100*n_features)\n",
        "print(f\"greedy_cd time performance : {time.time() - start}\")\n",
        "print(f\"greedy_cd mimimum {loss_ccd[-1]}\")\n"
      ],
      "metadata": {
        "colab": {
          "base_uri": "https://localhost:8080/"
        },
        "id": "t-TWNlaTQyeW",
        "outputId": "7df923ea-ba99-4b5e-ecbb-b12424f242dd"
      },
      "execution_count": 107,
      "outputs": [
        {
          "output_type": "stream",
          "name": "stdout",
          "text": [
            "------ Cyclic CD -------\n",
            "cyclic_cd time performance : 0.11498117446899414\n",
            "cyclic_cd mimimum 466.38497653376584\n",
            "------ Greedy CD -------\n",
            "greedy_cd time performance : 0.1229403018951416\n",
            "greedy_cd mimimum 466.38497653376584\n"
          ]
        }
      ]
    },
    {
      "cell_type": "code",
      "source": [
        "# Visualization\n",
        "plt.figure(figsize=(15,6))\n",
        "plt.semilogy(np.maximum(loss_ccd - f_min, eps), label=\"cyclic  CD\")\n",
        "plt.semilogy(np.maximum(loss_gcd - f_min, eps), label= \"greedy CD\")\n",
        "plt.xlabel(\"Epoch\")\n",
        "plt.ylabel(\"$f(w_k) - f(w^*)$\")\n",
        "plt.legend()\n",
        "plt.show()"
      ],
      "metadata": {
        "colab": {
          "base_uri": "https://localhost:8080/",
          "height": 388
        },
        "id": "ioSE4J1iKi_K",
        "outputId": "978ade10-be5c-4ca9-e179-a9ecfcc13ab6"
      },
      "execution_count": 108,
      "outputs": [
        {
          "output_type": "display_data",
          "data": {
            "text/plain": [
              "<Figure size 1080x432 with 1 Axes>"
            ],
            "image/png": "[encoded data removed]"
          },
          "metadata": {
            "needs_background": "light"
          }
        }
      ]
    },
    {
      "cell_type": "markdown",
      "source": [
        "<div class=\"alert alert-success\">\n",
        "   \n",
        "$\\bullet$ <strong>Compare performance of Cyclic and greedy CD: </strong> \n",
        "\n",
        "Our objective function in convex and smooth so aspected the method converge also we see that greedy cd is better.\n",
        "\n",
        "$\\bullet$ <strong>Greedy CD for OLS with 100000 features :</strong> \n",
        "\n",
        "From a pratical point of view Greedy CD is not a good choice because of the presence of the n^3 that we have in the upper bound of the difference between the objective function at the iterate minus the mimimum and obviously at each iteration looking over the entire gradient to find the coordinate with the largest magnitude will be really costly.\n",
        "</div>"
      ],
      "metadata": {
        "id": "rcJbwr6kWjIh"
      }
    },
    {
      "cell_type": "markdown",
      "metadata": {
        "id": "M3lCnitB5HLD"
      },
      "source": [
        "## Part 2: Sparse Logistic regression"
      ]
    },
    {
      "cell_type": "markdown",
      "metadata": {
        "id": "PJYEx-rX5HLD"
      },
      "source": [
        "### An important result\n",
        "\n",
        "Remember: we are solving \n",
        "$$\\hat w \\in \\mathrm{arg \\, min} \\sum_{i=1}^{n} \\mathrm{log} ( 1 + e^{- y_i w^\\top x_i} )  + \\lambda \\Vert w \\Vert_1$$\n",
        "\n",
        "<div class=\"alert alert-success\">\n",
        "    <b>QUESTION 3:</b><br/>\n",
        "  Assuming uniqueness of the solution, show that: $\\lambda \\geq \\lambda_{max} \\Leftrightarrow \\hat w = 0$\n",
        "where $\\lambda_{max} := \\frac 12 \\Vert X^\\top y \\Vert_{\\infty}$.\n",
        "</div>\n",
        "\n",
        "**HINT:** You will need the following beautiful result: for any $w =(w_1, \\dots, w_p) \\in \\mathbb{R}^p$, the subdifferential of the L1 norm at $w$ is:\n",
        "\n",
        "$$\\partial \\Vert \\cdot \\Vert_1 (w) = \\partial \\vert \\cdot \\vert (w_1)  \\times \\dots \\times \\partial \\vert \\cdot \\vert (w_p) $$\n",
        "where $\\times$ is the Cartesian product between sets,\n",
        "and $$ \\partial \\vert \\cdot \\vert (w_j) = \n",
        "\\begin{cases} &w_j / |w_j| &\\mathrm{if} \\quad w_j \\neq 0, \n",
        "         \\\\ & [-1, 1] &\\mathrm{otherwise.} \n",
        "\\end{cases}\n",
        "$$\n",
        "\n",
        "\n",
        "(it should now be easy to find $\\partial \\Vert \\cdot \\Vert_1 (\\mathbf{0}_p)$)"
      ]
    },
    {
      "cell_type": "markdown",
      "metadata": {
        "id": "cyfV2LTo5HLE"
      },
      "source": [
        "***answer here***\n",
        "\n",
        "<div class=\"alert alert-info\">\n",
        "    <h2><strong>Answer :  </strong></h2>\n",
        "\n",
        "First, let $L(w) = \\sum_{i=1}^{n} \\mathrm{log} ( 1 + e^{- y_i w^\\top x_i} )$ we have the following gradient :  $\\nabla L(w) = -\\sum_{i=1}^n \\frac{y_i x_i}{1+e^{y_i x_i^\\top w}}$\n",
        "\n",
        "Moreover,\n",
        "$$\n",
        "\\begin{split}\n",
        "\\partial (L(w) + \\lambda \\Vert \\cdot \\Vert_1 (w)) & = \\nabla L(w) + \\lambda \\partial \\Vert \\cdot \\Vert_1 (w) \\\\ & = - \\sum_{i=1}^n \\frac{y_i x_i}{1+e^{y_i x_i^\\top w}} + \\lambda \\partial \\Vert \\cdot \\Vert_1 (w)\n",
        "\\end{split}\n",
        "$$\n",
        "\n",
        "And at $w = \\mathbf{0}_p$:\n",
        "\n",
        "$$\n",
        "\\partial (L(\\mathbf{0}_p) + \\lambda \\Vert \\cdot \\Vert_1 (\\mathbf{0}_p)) = - \\frac{1}{2} \\sum_{i=1}^n y_i x_i + [-\\lambda,\\lambda]^p\n",
        "$$\n",
        "\n",
        "Using the Fermat's rule:\n",
        "\n",
        "$$\n",
        "\\begin{split}\n",
        "\\mathbf{0}_p \\in \\mathrm{arg \\, min} \\sum_{i=1}^{n} \\mathrm{log} ( 1 + e^{- y_i w^\\top x_i} )  + \\lambda \\Vert w \\Vert_1\n",
        "&\\iff 0 \\in \\partial (L(\\mathbf{0}_p) + \\lambda \\Vert \\cdot \\Vert_1 (\\mathbf{0}_p))\\\\\n",
        "&\\iff \\frac{1}{2} \\sum_{i=1}^n y_i x_i \\in [-\\lambda,\\lambda]^p\\\\\n",
        "&\\iff \\frac 12 \\Vert X^\\top y \\Vert_{\\infty} \\leq \\lambda \\\\\n",
        "&\\iff \\lambda_\\max \\leq \\lambda\n",
        "\\end{split}\n",
        "$$\n",
        "\n",
        "\n",
        "We've just proofed the equivalence, which results in:\n",
        "$$ \\lambda \\geq \\lambda_{max} \\implies \\hat w = 0$$\n",
        "\n",
        "</div>"
      ]
    },
    {
      "cell_type": "markdown",
      "metadata": {
        "id": "w04NGBzD5HLE"
      },
      "source": [
        "<div class=\"alert alert-success\">\n",
        "    <b>QUESTION 4:</b><br/>\n",
        "  Show that for sparse Logistic regression the coordinate-wise Lipschitz constant of the smooth term, $\\gamma_j$, can be taken equal to $\\Vert X_j \\Vert^2 / 4$, where $X_j$ denotes the $j$-th column of $X$.\n",
        "</div>"
      ]
    },
    {
      "cell_type": "markdown",
      "metadata": {
        "id": "zbgwIpMO5HLE"
      },
      "source": [
        "***answer here***\n",
        "<div class=\"alert alert-info\">  \n",
        "    <b>Answer</b>:  \n",
        "\n",
        "First, let f be :  \n",
        "\n",
        "$$f(w)=\\sum_{i=1}^{n} \\mathrm{log} ( 1 + e^{- y_i w^\\top x_i} )$$  \n",
        "\n",
        "The derivative of $f$ w.r.t $w_j$ :  \n",
        "\n",
        "$$\\frac {\\partial f(w)}{\\partial w_j}=\\sum_{i=1}^{n} \\frac{-y_i x_{ij}}{1+e^{y_i w^\\top x_i}}$$  \n",
        "\n",
        "The second derivative of $f$ w.r.t $w_j$ :  \n",
        "\n",
        "$$\\frac {\\partial^2 f(w)}{\\partial w_j^2}=\\sum_{i=1}^{n} \\frac{y_i^2 x_{ij}^2 e^{y_i w^\\top x_i}}{(1+e^{y_i w^\\top x_i})^2}$$  \n",
        "\n",
        "However, we know that :  \n",
        "\n",
        "$$   \\frac {e^{\\alpha}}{(1+  e^{\\alpha})^2} \\leq \\frac 14 \\quad \\forall \\alpha$$ \n",
        "\n",
        "$$  y_i^2 = 1 \\quad \\forall i$$  \n",
        "\n",
        "Conclusion : $$\\frac {\\partial^2 f(w)}{\\partial w_j^2} \\leq \\frac 14 \\sum_{i=1}^{n} x_{ij}^2 = \\frac 14 \\Vert X_j \\Vert ^2 = L_j $$"
      ]
    },
    {
      "cell_type": "markdown",
      "metadata": {
        "id": "ZBTKzovg5HLE"
      },
      "source": [
        "<div class=\"alert alert-success\">\n",
        "    <b>QUESTION 5:</b><br/>\n",
        "    Code cyclic proximal coordinate descent for sparse Logistic regression:\n",
        "</div>\n",
        "\n",
        "**WARNING**: the Lasso means linear regression (quadratic fitting term) with L1 penalty. Sparse logistic regression means logistic regression with L1 penalty."
      ]
    },
    {
      "cell_type": "code",
      "execution_count": 134,
      "metadata": {
        "id": "DUVew8VW5HLE"
      },
      "outputs": [],
      "source": [
        "X, y = simu(coefs, n_samples=1000, for_logreg=True)\n",
        "lambda_max = norm(X.T.dot(y), ord= np.inf) / 2.\n",
        "lamb = lambda_max / 20.  \n",
        "# much easier to parametrize lambda as a function of lambda_max than \n",
        "# to take random values like 0.1 in previous Labs\n",
        "\n",
        "\n",
        "\n",
        "def sigmoid(t):\n",
        "    \"\"\"Sigmoid function\"\"\"\n",
        "    return 1. / (1. + np.exp(-t))\n",
        "\n",
        "\n",
        "def soft_thresh(x, u):\n",
        "    \"\"\"Soft thresholding of x at level u\"\"\"\n",
        "    return np.sign(x) * np.maximum(0., np.abs(x) - u)\n",
        "\n",
        "\n",
        "def cd_logreg(X, y, lamb, n_iter):\n",
        "    n_samples, n_features = X.shape\n",
        "    all_objs = np.zeros(n_iter+1)\n",
        "    w = np.zeros(n_features)\n",
        "    Xw = X.dot(w)\n",
        "    all_objs[0] = np.log(1. + np.exp(-y * Xw)).sum() + lamb * norm(w, ord=1)\n",
        "    # TODO\n",
        "    lips_const = np.linalg.norm(X, axis=0) ** 2 / 4. \n",
        "    # END TODO\n",
        "    for t in range(n_iter):\n",
        "        for j in range(n_features):\n",
        "            old_w_j = w[j]\n",
        "            # TODO\n",
        "            grad_j = -np.sum(y * X[:,j] * sigmoid(-(y * Xw)))\n",
        "            w[j] =  soft_thresh(old_w_j  - (grad_j / lips_const[j]) , lamb / lips_const[j])\n",
        "            \n",
        "            if old_w_j != w[j]:\n",
        "              Xw += X[:,j] * ( w[j] - old_w_j)\n",
        "            #END TODO\n",
        "            \n",
        "        all_objs[t+1] = np.log(1. + np.exp(-y * Xw)).sum() + lamb * norm(w, ord=1)\n",
        "    \n",
        "    return w, all_objs"
      ]
    },
    {
      "cell_type": "code",
      "source": [
        "w_cd_log, loss_cd_log = cd_logreg(X=X, y=y, lamb=lamb, n_iter= 1000 )\n",
        "plt.figure(figsize=(15,7))\n",
        "plt.semilogy(np.maximum(loss_cd_log - loss_cd_log[-1], eps),label=\"cd_logreg\")\n",
        "plt.legend()\n",
        "plt.xlabel(\"Epoch\") \n",
        "plt.ylabel(\"Loss\")\n",
        "plt.show()"
      ],
      "metadata": {
        "colab": {
          "base_uri": "https://localhost:8080/",
          "height": 442
        },
        "id": "GjR-mY_vbAwY",
        "outputId": "8e31c77e-ca54-449b-80c7-e7920675cbfa"
      },
      "execution_count": 136,
      "outputs": [
        {
          "output_type": "display_data",
          "data": {
            "text/plain": [
              "<Figure size 1080x504 with 1 Axes>"
            ],
            "image/png": "[encoded data removed]"
          },
          "metadata": {
            "needs_background": "light"
          }
        }
      ]
    },
    {
      "cell_type": "code",
      "source": [
        "w_cd_log, loss_cd_log = cd_logreg(X=X, y=y, lamb=lamb, n_iter= X.shape[1] * 50 )\n",
        "plt.plot(b)"
      ],
      "metadata": {
        "colab": {
          "base_uri": "https://localhost:8080/",
          "height": 283
        },
        "id": "f4XOuZF2QOM9",
        "outputId": "d057b27d-5183-47c1-8845-040e8915420a"
      },
      "execution_count": 95,
      "outputs": [
        {
          "output_type": "execute_result",
          "data": {
            "text/plain": [
              "[<matplotlib.lines.Line2D at 0x7f25f6d9d2d0>]"
            ]
          },
          "metadata": {},
          "execution_count": 95
        },
        {
          "output_type": "display_data",
          "data": {
            "text/plain": [
              "<Figure size 432x288 with 1 Axes>"
            ],
            "image/png": "[encoded data removed]"
          },
          "metadata": {
            "needs_background": "light"
          }
        }
      ]
    },
    {
      "cell_type": "markdown",
      "metadata": {
        "id": "XLji3iM85HLE"
      },
      "source": [
        "# Part 3: Real data\n",
        "\n",
        "We will compare vanilla cyclic CD and ISTA to solve the Lasso on a real dataset, called _leukemia_."
      ]
    },
    {
      "cell_type": "code",
      "execution_count": 140,
      "metadata": {
        "id": "A-NEFs9E5HLF"
      },
      "outputs": [],
      "source": [
        "from sklearn.datasets import fetch_openml\n",
        "\n",
        "leuk = fetch_openml(\"leukemia\")\n",
        "\n",
        "X = np.asfortranarray(leuk.data)\n",
        "y = np.ones(leuk.target.shape)\n",
        "y[leuk.target == leuk.target[0]] = -1."
      ]
    },
    {
      "cell_type": "code",
      "execution_count": 141,
      "metadata": {
        "id": "Cg3vXZPL5HLF",
        "colab": {
          "base_uri": "https://localhost:8080/"
        },
        "outputId": "28fef05c-5fa1-4e9c-f782-4c4291328c69"
      },
      "outputs": [
        {
          "output_type": "stream",
          "name": "stdout",
          "text": [
            "(72, 7129)\n"
          ]
        }
      ],
      "source": [
        "print(X.shape)\n",
        "\n",
        "lambda_max_lasso = norm(X.T.dot(y), ord=np.inf)\n",
        "lambd = lambda_max_lasso / 5."
      ]
    },
    {
      "cell_type": "markdown",
      "metadata": {
        "id": "3bvp5FLZ5HLF"
      },
      "source": [
        "<div class=\"alert alert-success\">\n",
        "    <b>QUESTION 6:</b> Code\n",
        "    <ul>\n",
        "        <li>a simple proximal gradient solver for the Lasso</li>\n",
        "        <li>a prox CD solver for the Lasso and compare them on this dataset.</li>\n",
        "    </ul>\n",
        "</div>\n",
        "\n",
        "**Remark:** Do the plots in terms of epochs, not updates (to be fair to CD)."
      ]
    },
    {
      "cell_type": "code",
      "source": [
        "def grad_linreg(x, A=X, b=y):\n",
        "    \"\"\"Leas-squares gradient\"\"\"\n",
        "    return -1 * np.dot(A.T,(b-np.dot(A,x)))\n",
        "\n",
        "def L1_norm(x, lmbd):\n",
        "    \"\"\"Value of the L1 penalization at x\"\"\"\n",
        "    return lmbd * np.linalg.norm(x, 1) # TODO\n",
        "\n",
        "def loss_linreg(x, A=X, b=y):\n",
        "    \"\"\"Least-squares loss\"\"\"\n",
        "    return (np.linalg.norm(b - np.dot(A,x), 2)**2)/ 2 \n",
        "  \n",
        "def PGD(A, f, grad_f, R, prox_R, lmbd=0., n_iter=200):\n",
        "    \"\"\"Proximal gradient descent algorithm\"\"\"\n",
        "    n_samples, n_features = A.shape\n",
        "    x0 = np.zeros(n_features)\n",
        "    x = x0.copy()\n",
        "    x_new = x0.copy()\n",
        "    step = np.linalg.norm(A, ord=2) ** 2\n",
        "    \n",
        "    # objective history\n",
        "    objectives = []\n",
        "    # Current objective\n",
        "    obj = f(x) + R(x, lmbd)\n",
        "    objectives.append(obj)\n",
        "    for k in range(n_iter):\n",
        "        x = prox_R(x - (grad_f(x) / step), lmbd / step)     \n",
        "        obj = f(x) + R(x, lmbd)\n",
        "        if (k+1) % n_features == 0 :\n",
        "          objectives.append(obj)\n",
        "    return x, objectives"
      ],
      "metadata": {
        "id": "nSR7D2q38AvT"
      },
      "execution_count": 142,
      "outputs": []
    },
    {
      "cell_type": "code",
      "source": [
        "def cd_lingreg(X, y, lamb, n_iter):\n",
        "    n_samples, n_features = X.shape\n",
        "    all_objs = np.zeros(n_iter+1)\n",
        "    w = np.zeros(n_features)\n",
        "    gradient = X.T.dot(X.dot(w) - y)\n",
        "    gram = X.T.dot(X)\n",
        "    all_objs[0] =  0.5 * np.linalg.norm(X.dot(w) - y) ** 2\n",
        "    \n",
        "    # TODO\n",
        "    lips_const = np.linalg.norm(X, axis=0) ** 2 \n",
        "    # END TODO\n",
        "    for t in range(n_iter):\n",
        "        for j in range(n_features):\n",
        "            old_w_j = w[j]\n",
        "            # TODO\n",
        "            grad_j = gradient[j]\n",
        "            w[j] =  soft_thresh(old_w_j  - (grad_j / lips_const[j]) , lamb / lips_const[j])          \n",
        "            if old_w_j != w[j]:\n",
        "              gradient += np.dot(gram[:, j], (w[j] - old_w_j))\n",
        "            #END TODO       \n",
        "        all_objs[t+1] = 0.5 * np.linalg.norm(X.dot(w) - y) ** 2\n",
        "    \n",
        "    return w, all_objs"
      ],
      "metadata": {
        "id": "Yo_KInTjqkic"
      },
      "execution_count": 143,
      "outputs": []
    },
    {
      "cell_type": "code",
      "source": [
        "w_pgd,loss_pgd = PGD(A=X, f=loss_linreg, grad_f=grad_linreg, R=L1_norm, prox_R=soft_thresh, \n",
        "                     lmbd=lambd, n_iter=X.shape[1]*60)\n",
        "\n",
        "w_cd_lin,loss_cd_lin = cd_lingreg(X=X, y=y, lamb=lambd, n_iter=60)\n",
        "\n",
        "plt.figure()\n",
        "plt.plot(loss_pgd, label = \"PGD\")\n",
        "plt.plot(loss_cd_lin, label = \"Prox CD\")\n",
        "plt.title(\"Minimization of the loss over Leukemia dataset\")\n",
        "plt.xlabel(\"EPOCH\")\n",
        "plt.ylabel(\"loss\")\n",
        "plt.legend()\n",
        "plt.show()"
      ],
      "metadata": {
        "colab": {
          "base_uri": "https://localhost:8080/",
          "height": 295
        },
        "id": "u4pYLj79EA2L",
        "outputId": "ea8d2eeb-3593-4b7c-e302-ad300ff85ca9"
      },
      "execution_count": 145,
      "outputs": [
        {
          "output_type": "display_data",
          "data": {
            "text/plain": [
              "<Figure size 432x288 with 1 Axes>"
            ],
            "image/png": "[encoded data removed]"
          },
          "metadata": {
            "needs_background": "light"
          }
        }
      ]
    }
  ],
  "metadata": {
    "anaconda-cloud": {},
    "kernelspec": {
      "display_name": "Python 3",
      "language": "python",
      "name": "python3"
    },
    "language_info": {
      "codemirror_mode": {
        "name": "ipython",
        "version": 3
      },
      "file_extension": ".py",
      "mimetype": "text/x-python",
      "name": "python",
      "nbconvert_exporter": "python",
      "pygments_lexer": "ipython3",
      "version": "3.8.5"
    },
    "colab": {
      "provenance": []
    }
  },
  "nbformat": 4,
  "nbformat_minor": 0
}